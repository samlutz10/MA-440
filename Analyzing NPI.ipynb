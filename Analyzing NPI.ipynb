{
 "cells": [
  {
   "cell_type": "code",
   "execution_count": 14,
   "id": "64d7e26e",
   "metadata": {},
   "outputs": [
    {
     "name": "stdout",
     "output_type": "stream",
     "text": [
      "       score  Q1  Q2  Q3  Q4  Q5  Q6  Q7  Q8  Q9  ...  Q34  Q35  Q36  Q37  \\\n",
      "0         18   2   2   2   2   1   2   1   2   2  ...    1    1    2    2   \n",
      "1          6   2   2   2   1   2   2   1   2   1  ...    2    1    2    2   \n",
      "2         27   1   2   2   1   2   1   2   1   2  ...    1    2    1    1   \n",
      "3         29   1   1   2   2   2   1   2   1   1  ...    1    2    1    2   \n",
      "4          6   1   2   1   1   1   2   1   2   1  ...    2    1    2    2   \n",
      "...      ...  ..  ..  ..  ..  ..  ..  ..  ..  ..  ...  ...  ...  ...  ...   \n",
      "11238      1   2   2   2   1   1   2   1   2   1  ...    2    1    2    2   \n",
      "11239     10   2   2   1   1   1   2   1   1   1  ...    2    1    2    1   \n",
      "11240      6   1   2   2   1   1   2   1   2   1  ...    2    1    2    2   \n",
      "11241     12   2   2   1   1   1   1   1   1   1  ...    1    2    2    2   \n",
      "11242     18   1   2   1   1   1   1   2   2   1  ...    2    2    1    2   \n",
      "\n",
      "       Q38  Q39  Q40  elapse  gender  age  \n",
      "0        2    1    2     211       1   50  \n",
      "1        2    2    1     149       1   40  \n",
      "2        2    1    2     168       1   28  \n",
      "3        2    1    1     230       1   37  \n",
      "4        2    0    1     389       1   50  \n",
      "...    ...  ...  ...     ...     ...  ...  \n",
      "11238    2    2    1     243       1   24  \n",
      "11239    2    2    1     197       1   39  \n",
      "11240    2    2    1     447       2   33  \n",
      "11241    2    2    1     167       1   24  \n",
      "11242    2    1    1     291       1   36  \n",
      "\n",
      "[11243 rows x 44 columns]\n",
      "None\n"
     ]
    }
   ],
   "source": [
    "import pandas as pd\n",
    "import numpy as np\n",
    "import matplotlib.pyplot as plt\n",
    "\n",
    "#Import the data and print it\n",
    "NPI_Data = pd.read_csv('data.csv')\n",
    "print(NPI_Data)\n",
    "\n",
    "#Turn the data into a correlation matrix\n",
    "NPI_Correlation = NPI_Data.corr().abs()\n",
    "\n",
    "# Select upper triangle of correlation matrix\n",
    "upper = NPI_Correlation.where(np.triu(np.ones(NPI_Correlation.shape), k=1).astype(bool))\n",
    "\n",
    "# Find features with correlation greater than 0.95\n",
    "to_drop = [column for column in upper.columns if any(upper[column] > 0.95)]\n",
    "\n",
    "# Drop features \n",
    "New_NPI_Data = NPI_Data.drop(to_drop, axis=1, inplace=True)\n",
    "\n",
    "print(New_NPI_Data)\n",
    "\n",
    "\n",
    "\n",
    "\n"
   ]
  },
  {
   "cell_type": "code",
   "execution_count": null,
   "id": "88cc4dc7",
   "metadata": {},
   "outputs": [],
   "source": []
  }
 ],
 "metadata": {
  "kernelspec": {
   "display_name": "Python 3",
   "language": "python",
   "name": "python3"
  },
  "language_info": {
   "codemirror_mode": {
    "name": "ipython",
    "version": 3
   },
   "file_extension": ".py",
   "mimetype": "text/x-python",
   "name": "python",
   "nbconvert_exporter": "python",
   "pygments_lexer": "ipython3",
   "version": "3.8.8"
  }
 },
 "nbformat": 4,
 "nbformat_minor": 5
}
